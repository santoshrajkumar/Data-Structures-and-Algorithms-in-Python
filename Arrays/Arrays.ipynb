{
 "cells": [
  {
   "cell_type": "code",
   "execution_count": 24,
   "metadata": {},
   "outputs": [],
   "source": [
    "# Defining an array\n",
    "array = [8, 26, 31, 40, 75, 6]"
   ]
  },
  {
   "cell_type": "code",
   "execution_count": 25,
   "metadata": {},
   "outputs": [],
   "source": [
    "# Linear search in the array"
   ]
  },
  {
   "cell_type": "code",
   "execution_count": 26,
   "metadata": {},
   "outputs": [],
   "source": [
    "# Finding if an item is present in the array"
   ]
  },
  {
   "cell_type": "code",
   "execution_count": 27,
   "metadata": {},
   "outputs": [
    {
     "name": "stdin",
     "output_type": "stream",
     "text": [
      "Enter item to search in the array 40\n"
     ]
    },
    {
     "name": "stdout",
     "output_type": "stream",
     "text": [
      "Item present in the array\n"
     ]
    }
   ],
   "source": [
    "result = int(input('Enter item to search in the array'))\n",
    "present = False\n",
    "for item in array:\n",
    "    if item == result:\n",
    "        present = True\n",
    "        \n",
    "if present == True:\n",
    "    print('Item present in the array')\n",
    "else:\n",
    "    print('Item not present in the array')\n",
    "    \n",
    "        "
   ]
  },
  {
   "cell_type": "code",
   "execution_count": null,
   "metadata": {},
   "outputs": [],
   "source": [
    "# Finding the maximum & minimun in the array"
   ]
  },
  {
   "cell_type": "code",
   "execution_count": 29,
   "metadata": {},
   "outputs": [
    {
     "name": "stdout",
     "output_type": "stream",
     "text": [
      "The max is: 75 and the min is: 6\n"
     ]
    }
   ],
   "source": [
    "min = array[0]\n",
    "max = array[0]\n",
    "\n",
    "for item in array:\n",
    "    if item > max:\n",
    "        max = item\n",
    "    if item < min:\n",
    "        min = item\n",
    "        \n",
    "print('The max is: '+str(max)+' and '+'the min is: '+str(min))"
   ]
  }
 ],
 "metadata": {
  "kernelspec": {
   "display_name": "Python 3",
   "language": "python",
   "name": "python3"
  },
  "language_info": {
   "codemirror_mode": {
    "name": "ipython",
    "version": 3
   },
   "file_extension": ".py",
   "mimetype": "text/x-python",
   "name": "python",
   "nbconvert_exporter": "python",
   "pygments_lexer": "ipython3",
   "version": "3.8.3"
  }
 },
 "nbformat": 4,
 "nbformat_minor": 4
}
